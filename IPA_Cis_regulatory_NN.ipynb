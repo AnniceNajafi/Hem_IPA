{
 "cells": [
  {
   "cell_type": "markdown",
   "metadata": {
    "id": "aSSUD5Trhgzw"
   },
   "source": [
    "<h1>Classifying Intronic Polyadenylation Events from Random Polyadenylation signals in Introns Based on Cis-regulatory Elements<h1>\n",
    "<h6>Description: The following program trains a neural network based on 8383 ranges containing two classes retrieved from random polyadenylation signals from introns and confident intronic polyadenylation sites. The input to the neural network is a DNA sequence containing a CSE hexamer \"AATAAA\" or \"ATTAAA\" at its 50th nucleotide and 186 nt in length.<h6>\n",
    "@author Annice Najafi\n",
    "<br>Texas A&M University\n",
    "<br>Spring 2021    \n",
    "    <br><br>"
   ]
  },
  {
   "cell_type": "markdown",
   "metadata": {
    "id": "eDjVqwR0hgz6"
   },
   "source": [
    "Polyadenylation is initiated by the recognition of the polyA signal on the mRNA by RNA polymerase then the transcript is cut about 10-30 nts"
   ]
  },
  {
   "cell_type": "markdown",
   "metadata": {
    "id": "-bxI8Xezhgz6"
   },
   "source": [
    "<h4>Taken From Aparent</h4>\n",
    "<p>\"APARENT is based on a Convolutional Neural Network (CNN). The input DNA sequence is aligned such that the CSE hexamer of the\n",
    "proximal PAS starts at position 50. The sequence is transformed as a 1-Hot-Coded matrix, i.e., where nucleotide A is encoded as the\n",
    "vector [1, 0, 0, 0], C is encoded as [0, 1, 0, 0], G is encoded as [0, 0, 1, 0] and T is encoded as [0, 0, 0, 1]. The coding can best be\n",
    "thought of as a 1-dimensional signal (over sequence position) spanning 4 signal channels (nucleotides). The input sequence is\n",
    "186 nt long, a number that was chosen such that all randomized regions of all 30 UTR libraries would fit the input window.\"</p>"
   ]
  },
  {
   "cell_type": "markdown",
   "metadata": {
    "id": "nE0Z4R7UKCH5"
   },
   "source": [
    "<h2><p style=\"color:#FF1493\">Retrieving HG38 Genome Sequence For Ranges</h2>"
   ]
  },
  {
   "cell_type": "code",
   "execution_count": 1,
   "metadata": {
    "colab": {
     "base_uri": "https://localhost:8080/",
     "height": 504
    },
    "id": "0LLdznb9KCH5",
    "outputId": "61806236-7be8-4c7d-81bb-e10bc0ccb18a"
   },
   "outputs": [
    {
     "name": "stdout",
     "output_type": "stream",
     "text": [
      "GTAAGTAGTGCTTGTGCTCATCTCCTTGGCTGTGATACATGGCCAGCCCTCGCTCCAGCAGCTGGACCCCTACCTGCCGTCTGCTGCCATCGGAGCCCAAAGCCGGGCTGTGACTGCTCAGACCAGCCGGCTGGAGGGAGGGGCTCAGCAGGTCTACCTTTGGCCCTGGGAGAGCAGGTGGAAGATCAGGCAGGCCATCGCTGCCACAGAACCCAGTGGATTGGCCTAGGTGGGATCTCTGAGCTCAACAAGCCCTCTCTGGGTGGTAGGTGCAGAGACGGGAGGGGCAGAGCCGCAGGCACAGCCAAGAGGGCTGAAGAAATGGTAGAACGGAGCAGCTGGTGATGTGTGGGCCCACCGGCCCCAGGCTCCTGTCTCCCCCCAG\n"
     ]
    }
   ],
   "source": [
    "import rpy2.rinterface as rinterface\n",
    "import rpy2.robjects as robjects\n",
    "from rpy2.robjects.packages import importr\n",
    "#import BSgenome\n",
    "bs_genome = importr('BSgenome.Hsapiens.UCSC.hg38')\n",
    "# You need to import 'Biostrings' explicitly\n",
    "# Loading 'BSgenome.Hsapiens.UCSC.hg19' won't load 'Biostrings' automatically\n",
    "bio_strings = importr('Biostrings')\n",
    "\n",
    "\n",
    "one_seq = bio_strings.getSeq(bs_genome.Hsapiens, \"chr1\", 182747, 183131, rinterface.NA_Integer, \"+\", True) \n",
    "\n",
    "print(one_seq[0]) "
   ]
  },
  {
   "cell_type": "markdown",
   "metadata": {
    "id": "KI_yU2uWKCH7"
   },
   "source": [
    "<h3>One hot-encoding Function</h3>\n",
    "<br>\n",
    "Name: hot_encode\n",
    "<br>\n",
    "input: sequence\n",
    "<br>\n",
    "output: the sequence converted to arrays of four channels"
   ]
  },
  {
   "cell_type": "code",
   "execution_count": 2,
   "metadata": {
    "id": "0Kja5ppyKCH8"
   },
   "outputs": [],
   "source": [
    "from numpy import array\n",
    "from numpy import argmax\n",
    "from sklearn.preprocessing import LabelEncoder\n",
    "from sklearn.preprocessing import OneHotEncoder\n",
    "import re\n",
    "\n",
    "def hot_encode(one_seq):\n",
    "    seq = list(one_seq)\n",
    "    seq_arr = array(list(seq))\n",
    "    label_encoder = LabelEncoder()\n",
    "    integer_encoded_seq = label_encoder.fit_transform(seq_arr)\n",
    "    #one hot the sequence\n",
    "    onehot_encoder = OneHotEncoder(sparse=False)\n",
    "    integer_encoded_seq = integer_encoded_seq.reshape(len(integer_encoded_seq), 1)\n",
    "    onehot_encoded_seq = onehot_encoder.fit_transform(integer_encoded_seq)\n",
    "    onehot_encoded_seq=onehot_encoded_seq\n",
    "    return(onehot_encoded_seq)"
   ]
  },
  {
   "cell_type": "code",
   "execution_count": 3,
   "metadata": {
    "id": "wzQpQ_a8KCH9",
    "outputId": "844a4d4b-8eb1-4a69-9691-be3d75d87ce2",
    "scrolled": true
   },
   "outputs": [
    {
     "name": "stdout",
     "output_type": "stream",
     "text": [
      "GTAAGTAGTGCTTGTGCTCATCTCCTTGGCTGTGATACATGGCCAGCCCTCGCTCCAGCAGCTGGACCCCTACCTGCCGTCTGCTGCCATCGGAGCCCAAAGCCGGGCTGTGACTGCTCAGACCAGCCGGCTGGAGGGAGGGGCTCAGCAGGTCTACCTTTGGCCCTGGGAGAGCAGGTGGAAGATCAGGCAGGCCATCGCTGCCACAGAACCCAGTGGATTGGCCTAGGTGGGATCTCTGAGCTCAACAAGCCCTCTCTGGGTGGTAGGTGCAGAGACGGGAGGGGCAGAGCCGCAGGCACAGCCAAGAGGGCTGAAGAAATGGTAGAACGGAGCAGCTGGTGATGTGTGGGCCCACCGGCCCCAGGCTCCTGTCTCCCCCCAG\n",
      "[[0. 0. 1. 0.]\n",
      " [0. 0. 0. 1.]\n",
      " [1. 0. 0. 0.]\n",
      " ...\n",
      " [0. 1. 0. 0.]\n",
      " [1. 0. 0. 0.]\n",
      " [0. 0. 1. 0.]]\n"
     ]
    },
    {
     "data": {
      "text/plain": [
       "385"
      ]
     },
     "execution_count": 3,
     "metadata": {},
     "output_type": "execute_result"
    }
   ],
   "source": [
    "#Example:\n",
    "hot_encode(one_seq[0])\n",
    "print(one_seq[0])\n",
    "print(hot_encode(one_seq[0]))\n",
    "len(hot_encode(one_seq[0]))"
   ]
  },
  {
   "cell_type": "markdown",
   "metadata": {
    "id": "HIyNxzo0KCH9"
   },
   "source": [
    "# Retrieve Regions with Intronic Polyadenylation Events"
   ]
  },
  {
   "cell_type": "code",
   "execution_count": 4,
   "metadata": {
    "id": "HjP1qh8KKCH-"
   },
   "outputs": [],
   "source": [
    "#Read in the bed file with ranges\n",
    "L=list()\n",
    "with open(\"/Users/annicenajafi/Downloads/hg38_lifted_over_GSE111793.bed\")as f:\n",
    "    for line in f:\n",
    "        #print(line.strip().split())\n",
    "        B=line.strip().split();\n",
    "        L.append(B)"
   ]
  },
  {
   "cell_type": "code",
   "execution_count": 5,
   "metadata": {
    "id": "ceUw34sIKCH_",
    "outputId": "079d039a-e2d3-4d0a-8f9b-6fcf40fad932"
   },
   "outputs": [],
   "source": [
    "import pandas as pd\n",
    "seq_store=list()\n",
    "count=0;\n",
    "count1=0;\n",
    "count2=0;\n",
    "for entry in L:\n",
    "    elem = entry[0]\n",
    "    chr_hold=elem.split(\":\")[0]\n",
    "    range_hold=elem.split(\":\")[1]\n",
    "    start_hold=float(range_hold.split(\"-\")[0])\n",
    "    #print(type(float(start_hold)))\n",
    "    end_hold=float(range_hold.split(\"-\")[1])\n",
    "    one_seq = bio_strings.getSeq(bs_genome.Hsapiens, chr_hold, start_hold, end_hold, rinterface.NA_Integer, \"+\", True)\n",
    "    seqseq = one_seq[0]\n",
    "    polyA_loc = seqseq.find(\"AATAAA\")\n",
    "    \n",
    "    if(polyA_loc!=-1):\n",
    "            \n",
    "            seqseq_updated= bio_strings.getSeq(bs_genome.Hsapiens, chr_hold, (start_hold + polyA_loc -50), (start_hold + polyA_loc + 135), rinterface.NA_Integer, \"+\", True)[0]\n",
    "            #print(seqseq_updated)\n",
    "            seq_store.append(hot_encode(seqseq_updated))\n",
    "            count2=count2+1;\n",
    "    \n",
    "    one_seq = bio_strings.getSeq(bs_genome.Hsapiens, chr_hold, start_hold, end_hold, rinterface.NA_Integer, \"+\", True)\n",
    "    #one_seq = one_seq[::-1]\n",
    "    seqseq = one_seq[0]\n",
    "    polyA_loc = seqseq.find(\"ATTAAA\")        \n",
    "    if(polyA_loc!=-1):\n",
    "    #        print(polyA_loc)\n",
    "    #        print(start_hold)\n",
    "    #        print(end_hold)\n",
    "            count1=count1+1;\n",
    "            seqseq_updated= bio_strings.getSeq(bs_genome.Hsapiens, chr_hold, (start_hold + polyA_loc - 50), (start_hold + polyA_loc + 135), rinterface.NA_Integer,\"+\", True)[0]\n",
    "            #seqseq_updated = seqseq_updated[::-1]\n",
    "            #print(seqseq_updated)\n",
    "            seq_store.append(hot_encode(seqseq_updated))\n",
    "    "
   ]
  },
  {
   "cell_type": "markdown",
   "metadata": {
    "id": "mln8SrhnKCIK"
   },
   "source": [
    "<h2><p style=\"color:#FF1493\">Adding Extra Data from Annotation Source</p>"
   ]
  },
  {
   "cell_type": "code",
   "execution_count": 6,
   "metadata": {
    "id": "oHF0bU7KKCIL"
   },
   "outputs": [],
   "source": [
    "import pandas as pd\n",
    "\n",
    "# Read the CSV into a pandas data frame (df)\n",
    "#   With a df you can do many things\n",
    "#   most important: visualize data with Seaborn\n",
    "df = pd.read_csv('/Users/annicenajafi/Downloads/introns_mar_annotated_hg38.csv', delimiter=',')\n",
    "\n",
    "# Or export it in many ways, e.g. a list of tuples\n",
    "ref_tuples = [tuple(x) for x in df.values]\n",
    "\n",
    "res = [item for item in ref_tuples\n",
    "   if item[8] == \"intron.3utr\"]"
   ]
  },
  {
   "cell_type": "code",
   "execution_count": 7,
   "metadata": {
    "id": "fGIIuwoSKCIL"
   },
   "outputs": [],
   "source": [
    "\n",
    "res = [item for item in ref_tuples\n",
    "   if item[8] == \"intron.3utr\"]"
   ]
  },
  {
   "cell_type": "code",
   "execution_count": 8,
   "metadata": {
    "id": "nCiiapFihg0A",
    "outputId": "bd64e477-8493-4bc0-e991-f9fe421f75a9"
   },
   "outputs": [
    {
     "data": {
      "text/plain": [
       "'-'"
      ]
     },
     "execution_count": 8,
     "metadata": {},
     "output_type": "execute_result"
    }
   ],
   "source": [
    "res[1][5]"
   ]
  },
  {
   "cell_type": "markdown",
   "metadata": {
    "id": "MzTcMYB3KCIN"
   },
   "source": [
    "<h2><p style=\"color:#FF1493\">Merge Data from Two Datasets</p>"
   ]
  },
  {
   "cell_type": "code",
   "execution_count": 9,
   "metadata": {
    "id": "epSF2dUnKCIO",
    "outputId": "e8a6ca86-8f23-4541-fed7-1653a2e28775",
    "scrolled": true
   },
   "outputs": [],
   "source": [
    "for entry in res:\n",
    "    if(entry[5]==\"+\"):\n",
    "        chr_hold=entry[1]\n",
    "        start_hold=entry[2]\n",
    "        #print(type(float(start_hold)))\n",
    "        end_hold=entry[3]\n",
    "        one_seq = bio_strings.getSeq(bs_genome.Hsapiens, chr_hold, start_hold, end_hold, rinterface.NA_Integer, \"+\", True)\n",
    "        seqseq = one_seq[0]\n",
    "        polyA_loc = seqseq.find(\"AATAAA\")\n",
    "        \n",
    "    \n",
    "        if(polyA_loc!=-1):\n",
    "        #if(polyA_loc>(len(seqseq)-200)):\n",
    "                seqseq_updated= bio_strings.getSeq(bs_genome.Hsapiens, chr_hold, (start_hold + polyA_loc -50), (start_hold + polyA_loc + 135), rinterface.NA_Integer, \"+\", True)[0]\n",
    "                #print(seqseq_updated)\n",
    "                seq_store.append(hot_encode(seqseq_updated))\n",
    "    \n",
    "        #one_seq = bio_strings.getSeq(bs_genome.Hsapiens, chr_hold, start_hold, end_hold, rinterface.NA_Integer, \"+\", True)\n",
    "        #one_seq = one_seq[::-1]\n",
    "        #seqseq = one_seq[0]\n",
    "        polyA_loc = seqseq.find(\"ATTAAA\")    \n",
    "    \n",
    "        if(polyA_loc!=-1):\n",
    "        #if(polyA_loc>(len(seqseq)-200)):\n",
    "            \n",
    "                seqseq_updated= bio_strings.getSeq(bs_genome.Hsapiens, chr_hold, (start_hold + polyA_loc -50), (start_hold + polyA_loc + 135), rinterface.NA_Integer, \"+\", True)[0]\n",
    "          #      seqseq_updated = seqseq_updated[::-1]\n",
    "                #print(seqseq_updated)\n",
    "                seq_store.append(hot_encode(seqseq_updated))\n",
    " "
   ]
  },
  {
   "cell_type": "code",
   "execution_count": 10,
   "metadata": {
    "id": "FMsU7LSChg0B",
    "outputId": "e2e316f3-3a18-4656-d047-1581daf0ad3d"
   },
   "outputs": [
    {
     "data": {
      "text/plain": [
       "1610"
      ]
     },
     "execution_count": 10,
     "metadata": {},
     "output_type": "execute_result"
    }
   ],
   "source": [
    "count2"
   ]
  },
  {
   "cell_type": "code",
   "execution_count": 11,
   "metadata": {
    "id": "U71Uwx5bhg0C",
    "outputId": "791ee89e-db15-4660-f3f6-dd0e7ed6cadd"
   },
   "outputs": [
    {
     "data": {
      "text/plain": [
       "4089"
      ]
     },
     "execution_count": 11,
     "metadata": {},
     "output_type": "execute_result"
    }
   ],
   "source": [
    "len(seq_store)"
   ]
  },
  {
   "cell_type": "markdown",
   "metadata": {
    "id": "2_XNCZQ-KCIu"
   },
   "source": [
    "<h2><p style=\"color:#FF1493\">Retrieve Random PolyA Signals from Reference Genome</p>"
   ]
  },
  {
   "cell_type": "code",
   "execution_count": 12,
   "metadata": {
    "id": "PeR-KJhMKCIv"
   },
   "outputs": [],
   "source": [
    "\n",
    "path = \"/Users/annicenajafi/Desktop/hg38_annotated_introns_mar.bed\"\n",
    "randomPolyA_ls=list()\n",
    "with open(path)as f:\n",
    "    for line in f:\n",
    "        #print(line.strip().split())\n",
    "        B=line.strip().split();\n",
    "        randomPolyA_ls.append(B)"
   ]
  },
  {
   "cell_type": "code",
   "execution_count": 13,
   "metadata": {
    "id": "0eIAMp4kKCIv"
   },
   "outputs": [],
   "source": [
    "from sklearn.utils import shuffle\n",
    "#get rid of the header\n",
    "randomPolyA_ls = randomPolyA_ls[2:len(randomPolyA_ls)]\n",
    "#shuffle the rows\n",
    "randomPolyA_ls = shuffle(randomPolyA_ls)"
   ]
  },
  {
   "cell_type": "code",
   "execution_count": 14,
   "metadata": {
    "id": "PuOE_GvDhg0D",
    "outputId": "1cbed481-4292-4160-f34d-fca9be9f988a"
   },
   "outputs": [
    {
     "data": {
      "text/plain": [
       "['\"150446\"',\n",
       " '\"chr17\"',\n",
       " '56477655',\n",
       " '56480667',\n",
       " '3013',\n",
       " '\"+\"',\n",
       " '\"162282\"',\n",
       " '\"ANKFN1\"',\n",
       " '\"intron\"',\n",
       " '\"0\"',\n",
       " '0',\n",
       " '17',\n",
       " '\"cds_exon\"',\n",
       " '\"cds_exon\"',\n",
       " '\"protein_coding\"',\n",
       " '56480818']"
      ]
     },
     "execution_count": 14,
     "metadata": {},
     "output_type": "execute_result"
    }
   ],
   "source": [
    "randomPolyA_ls[100]"
   ]
  },
  {
   "cell_type": "code",
   "execution_count": 15,
   "metadata": {
    "id": "TE928Z2xKCIw",
    "outputId": "4d522a2b-a6b9-4b28-a3a7-0979107d49b5"
   },
   "outputs": [],
   "source": [
    "count=0;\n",
    "random_poly=list()\n",
    "\n",
    "for entry in randomPolyA_ls:\n",
    "\n",
    "    if(count<0.5*len(seq_store)):\n",
    "        if(entry[8]=='\"intron\"'):\n",
    "        \n",
    "            chr_hold=entry[1]\n",
    "            chr_hold=chr_hold.replace('\"', '')\n",
    "            start_hold=int(entry[2])\n",
    "            #print(type(float(start_hold)))\n",
    "            end_hold=int(entry[3])\n",
    "            one_seq = bio_strings.getSeq(bs_genome.Hsapiens, chr_hold, start_hold, end_hold, rinterface.NA_Integer, \"+\", True)\n",
    "            seqseq = one_seq[0]\n",
    "            polyA_loc = seqseq.find(\"AATAAA\")\n",
    "            if(polyA_loc!=-1):\n",
    "                if(polyA_loc>(len(seqseq)-200)):\n",
    "            \n",
    "                    seqseq_updated= bio_strings.getSeq(bs_genome.Hsapiens, chr_hold, (start_hold + polyA_loc -50), (start_hold + polyA_loc + 135), rinterface.NA_Integer, \"+\", True)[0]\n",
    "                    #print(seqseq_updated)\n",
    "            random_poly.append(hot_encode(seqseq_updated))\n",
    "            count=count+1;\n",
    "    if(0.5*len(seq_store)<count and count<len(seq_store)):\n",
    "        if(entry[8]=='\"intron\"'):\n",
    "        \n",
    "            chr_hold=entry[1]\n",
    "            chr_hold=chr_hold.replace('\"', '')\n",
    "            start_hold=int(entry[2])\n",
    "            #print(type(float(start_hold)))\n",
    "            end_hold=int(entry[3])\n",
    "            one_seq = bio_strings.getSeq(bs_genome.Hsapiens, chr_hold, start_hold, end_hold, rinterface.NA_Integer, \"+\", True)\n",
    "            seqseq = one_seq[0]\n",
    "            polyA_loc = seqseq.find(\"ATTAAA\")\n",
    "            if(polyA_loc!=-1):\n",
    "                if(polyA_loc>(len(seqseq)-200)):\n",
    "            \n",
    "                    seqseq_updated= bio_strings.getSeq(bs_genome.Hsapiens, chr_hold, (start_hold + polyA_loc -50), (start_hold + polyA_loc + 135), rinterface.NA_Integer, \"+\", True)[0]\n",
    "                    #print(seqseq_updated)\n",
    "            random_poly.append(hot_encode(seqseq_updated))\n",
    "            count=count+1;\n",
    "    "
   ]
  },
  {
   "cell_type": "code",
   "execution_count": 16,
   "metadata": {
    "id": "DnKggAMuKCI2",
    "outputId": "ba144a54-38e3-4a3e-d58b-2b2a1a37efce",
    "scrolled": true
   },
   "outputs": [
    {
     "data": {
      "text/plain": [
       "4089"
      ]
     },
     "execution_count": 16,
     "metadata": {},
     "output_type": "execute_result"
    }
   ],
   "source": [
    "len(seq_store)"
   ]
  },
  {
   "cell_type": "code",
   "execution_count": 17,
   "metadata": {
    "id": "vcslO_aoKCI2",
    "outputId": "24dc5323-1a93-4bd7-8157-da66ad9dc2c7"
   },
   "outputs": [
    {
     "name": "stdout",
     "output_type": "stream",
     "text": [
      "The size of the training set is equivalent to  8176\n"
     ]
    }
   ],
   "source": [
    "import math\n",
    "perc=1\n",
    "training_threshold=math.floor(perc*len(seq_store))\n",
    "training_threshold\n",
    "#print(\"The training set is \"+ str(perc*100) + \" percent of the entire dataset.\")\n",
    "train=random_poly[1:training_threshold]\n",
    "train2=seq_store[1:training_threshold]\n",
    "x_train = train + train2\n",
    "print(\"The size of the training set is equivalent to \", str(len(x_train)))"
   ]
  },
  {
   "cell_type": "code",
   "execution_count": 18,
   "metadata": {
    "id": "nBq7Sa6RKCI4",
    "outputId": "82dfe731-40cb-407b-dd2d-2ebc85379c7c"
   },
   "outputs": [
    {
     "name": "stdout",
     "output_type": "stream",
     "text": [
      "The size of the label array is equivalent to the size of the training set\n"
     ]
    }
   ],
   "source": [
    "y_train=list()\n",
    "for i in range(1,(training_threshold)):\n",
    "    y_train.append(1)\n",
    "for i in range(1,(training_threshold)):\n",
    "    y_train.append(0)   \n",
    "if(len(y_train)==len(x_train)):\n",
    "    print(\"The size of the label array is equivalent to the size of the training set\")"
   ]
  },
  {
   "cell_type": "code",
   "execution_count": 19,
   "metadata": {
    "id": "lyUCn73wKCI5"
   },
   "outputs": [],
   "source": [
    "#test= random_poly[training_threshold:(len(random_poly)+1)]\n",
    "#test2=seq_store[training_threshold:(len(seq_store)+1)]\n",
    "#x_val=test+test2\n",
    "#print(\"The size of the test set is equivalent to \", str(len(x_val)))"
   ]
  },
  {
   "cell_type": "code",
   "execution_count": 20,
   "metadata": {
    "id": "sXzN-VcDKCI5"
   },
   "outputs": [],
   "source": [
    "#y_val=list()\n",
    "#for i in range(training_threshold,(len(random_poly))):\n",
    "#    y_val.append(1)\n",
    "#for i in range(training_threshold,(len(seq_store))):\n",
    "#    y_val.append(0)   \n",
    "#if(len(y_val)==len(x_val)):\n",
    "#    print(\"The size of the label array is equivalent to the size of the testing set\")"
   ]
  },
  {
   "cell_type": "code",
   "execution_count": 21,
   "metadata": {
    "id": "ajIdDafnKCI5"
   },
   "outputs": [],
   "source": [
    "import numpy as np\n",
    "y_train = np.asarray(y_train).astype('float')\n",
    "#y_val = np.asarray(y_val).astype('float')\n",
    "\n",
    "x_train=np.asarray(x_train)\n",
    "#x_val=np.asarray(x_val)"
   ]
  },
  {
   "cell_type": "code",
   "execution_count": 22,
   "metadata": {
    "id": "gC9iveRqhg0F"
   },
   "outputs": [],
   "source": [
    "y_train = np.asarray(y_train).astype('float32').reshape((-1,1))\n",
    "#y_val = np.asarray(y_val).astype('float32').reshape((-1,1))"
   ]
  },
  {
   "cell_type": "code",
   "execution_count": 23,
   "metadata": {
    "id": "T6cFnyhFhg0F",
    "outputId": "e3924a2e-c8e7-4ab5-9cbd-d2095fa6f5ad"
   },
   "outputs": [
    {
     "data": {
      "text/plain": [
       "(8176, 1)"
      ]
     },
     "execution_count": 23,
     "metadata": {},
     "output_type": "execute_result"
    }
   ],
   "source": [
    "y_train.shape"
   ]
  },
  {
   "cell_type": "markdown",
   "metadata": {
    "id": "UiWawcKmhg0G"
   },
   "source": [
    "# Shuffle training and validation set"
   ]
  },
  {
   "cell_type": "code",
   "execution_count": 24,
   "metadata": {
    "id": "ptebORTxhg0G"
   },
   "outputs": [],
   "source": [
    "from sklearn.utils import shuffle\n",
    "import numpy as np\n",
    "x_train, y_train = shuffle(x_train, y_train)\n",
    "#x_val, y_val = shuffle(x_val, y_val)"
   ]
  },
  {
   "cell_type": "code",
   "execution_count": 25,
   "metadata": {
    "id": "8uucdaWGhg0G"
   },
   "outputs": [],
   "source": [
    "import numpy as np\n",
    "from sklearn.model_selection import train_test_split\n",
    "\n",
    "x_train, x_test, y_train, y_test = train_test_split(x_train, y_train)"
   ]
  },
  {
   "cell_type": "markdown",
   "metadata": {
    "id": "sOvGxAM9KCI6"
   },
   "source": [
    "<h2><p style=\"color:#FF1493\">Baseline Model</h2>"
   ]
  },
  {
   "cell_type": "code",
   "execution_count": 26,
   "metadata": {
    "id": "goYefmIFhg0H",
    "outputId": "ff5139da-d411-4701-fd3f-1005e796bec5",
    "scrolled": true
   },
   "outputs": [
    {
     "data": {
      "text/plain": [
       "(6132, 186, 4)"
      ]
     },
     "execution_count": 26,
     "metadata": {},
     "output_type": "execute_result"
    }
   ],
   "source": [
    "x_train.shape"
   ]
  },
  {
   "cell_type": "markdown",
   "metadata": {
    "id": "Rk4NtNk3hg0H"
   },
   "source": [
    "<h4>Taken From Aparent</h4>\n",
    "<h6>Architecture</h6>\n",
    "<p>\n",
    "\"The CNN was constructed from two convolutional layers using ReLU activation functions, interlaced with a MaxPool layer. The first\n",
    "convolutional layer had 70 1-dimensional filters covering all 4 nucleotide input channels. The filters of the first layer were 8 positions\n",
    "(nucleotides) wide. The second convolutional layer had 110 1-dimensional filters covering all 70 output channels from the previous\n",
    "layer, where the filter width was set to 6. The MaxPool layer subsampled the 1D signal by a factor of 2. The flattened convolution\n",
    "output is passed to a fully connected layer of 80 hidden ReLU units with 0.2x dropout, which finally connects to a logistic regression\n",
    "node that outputs the predicted proximal isoform proportion.\"</p>"
   ]
  },
  {
   "cell_type": "code",
   "execution_count": 139,
   "metadata": {
    "id": "952qwD7bKCI6",
    "scrolled": true
   },
   "outputs": [],
   "source": [
    "import tensorflow as tf\n",
    "from tensorflow import keras\n",
    "import tensorflow.keras\n",
    "\n",
    "from numpy import array\n",
    "from keras.models import Sequential\n",
    "from keras.layers import Dense\n",
    "from keras.layers import Flatten\n",
    "from keras.layers.convolutional import Conv1D\n",
    "from keras.layers.convolutional import MaxPooling1D\n",
    "from tensorflow.keras import models\n",
    "from tensorflow.keras import layers\n",
    "from keras.layers import Dropout\n",
    "# define model\n",
    "model = models.Sequential()\n",
    "model.add(layers.Conv1D(filters=70, kernel_size=8, activation='relu'))\n",
    "#model.add(MaxPooling1D(pool_size=2))\n",
    "model.add(layers.Conv1D(filters=110, kernel_size=6, activation='relu'))\n",
    "model.add(layers.MaxPooling1D(pool_size=2))\n",
    "model.add(layers.Flatten())\n",
    "model.add(layers.Dense(80, activation='relu'))\n",
    "#model.add(layers.Dense(80, activation='relu'))\n",
    "model.add(layers.Dropout(0.8))\n",
    "model.add(layers.Dense(2, activation=\"softmax\"))\n",
    "#model.compile(optimizer='adam', loss='mse')\n",
    "#binary_crossentropy\n",
    "model.compile(optimizer='rmsprop', loss='categorical_crossentropy',metrics=['acc'])"
   ]
  },
  {
   "cell_type": "markdown",
   "metadata": {
    "id": "8146kau8KCI6"
   },
   "source": [
    "<h2><p style=\"color:#FF1493\">Training The Baseline Model</h2>"
   ]
  },
  {
   "cell_type": "code",
   "execution_count": 64,
   "metadata": {
    "id": "_8E9eQFthg0I",
    "outputId": "562af5f1-5737-46e8-fd67-ae498ceee3e3",
    "scrolled": false
   },
   "outputs": [
    {
     "name": "stdout",
     "output_type": "stream",
     "text": [
      "The tensorboard extension is already loaded. To reload it, use:\n",
      "  %reload_ext tensorboard\n"
     ]
    },
    {
     "data": {
      "text/plain": [
       "ERROR: Failed to start '/Users/annicenajafi/Library/Python/3.7/bin'\n",
       "(set by the `TENSORBOARD_BINARY` environment variable): [Errno 13]\n",
       "Permission denied: '/Users/annicenajafi/Library/Python/3.7/bin'"
      ]
     },
     "metadata": {},
     "output_type": "display_data"
    }
   ],
   "source": [
    "import tensorflow\n",
    "import os\n",
    "os.environ['TENSORBOARD_BINARY'] = '/Users/annicenajafi/Library/Python/3.7/bin'\n",
    "%load_ext tensorboard\n",
    "import tensorflow as tf\n",
    "import datetime\n",
    "%tensorboard --logdir logs/fit"
   ]
  },
  {
   "cell_type": "code",
   "execution_count": 125,
   "metadata": {
    "id": "9NsKWsGvhg0J"
   },
   "outputs": [],
   "source": [
    "#from tensorflow.keras.callbacks import TensorBoard\n",
    "import time\n",
    "NAME = \"IPA_CIS_regulatory_elements-{}\".format(int(time.time()))\n",
    "log_dir = \"/Users/annicenajafi/Downloads/annice/logs\"\n",
    "#+ datetime.datetime.now().strftime(\"%Y%m%d-%H%M%S\")\n",
    "tensorboard_callback = tf.keras.callbacks.TensorBoard(log_dir=log_dir, histogram_freq=1)"
   ]
  },
  {
   "cell_type": "code",
   "execution_count": 119,
   "metadata": {},
   "outputs": [
    {
     "name": "stdout",
     "output_type": "stream",
     "text": [
      "The tensorboard extension is already loaded. To reload it, use:\n",
      "  %reload_ext tensorboard\n"
     ]
    }
   ],
   "source": [
    "%load_ext tensorboard"
   ]
  },
  {
   "cell_type": "code",
   "execution_count": 140,
   "metadata": {
    "id": "sxx29RGTKCI6",
    "outputId": "6de53458-350d-46c8-cf52-21975843298c",
    "scrolled": true
   },
   "outputs": [
    {
     "name": "stdout",
     "output_type": "stream",
     "text": [
      "Train on 4905 samples, validate on 1227 samples\n",
      "Epoch 1/15\n",
      "4905/4905 [==============================] - 5s 1ms/sample - loss: 0.9442 - acc: 0.3441 - val_loss: 0.6885 - val_acc: 0.0000e+00\n",
      "Epoch 2/15\n",
      "4905/4905 [==============================] - 4s 760us/sample - loss: 0.7068 - acc: 0.2491 - val_loss: 0.7125 - val_acc: 0.0000e+00\n",
      "Epoch 3/15\n",
      "4905/4905 [==============================] - 4s 816us/sample - loss: 0.7597 - acc: 0.3115 - val_loss: 0.6963 - val_acc: 0.4230\n",
      "Epoch 4/15\n",
      "4905/4905 [==============================] - 4s 807us/sample - loss: 0.8559 - acc: 0.3918 - val_loss: 0.7090 - val_acc: 0.0000e+00\n",
      "Epoch 5/15\n",
      "4905/4905 [==============================] - 4s 871us/sample - loss: 1.1271 - acc: 0.3967 - val_loss: 0.9045 - val_acc: 0.0073\n",
      "Epoch 6/15\n",
      "4905/4905 [==============================] - 5s 933us/sample - loss: 1.5497 - acc: 0.4512 - val_loss: 0.9488 - val_acc: 0.0090\n",
      "Epoch 7/15\n",
      "4905/4905 [==============================] - 5s 932us/sample - loss: 2.3917 - acc: 0.4446 - val_loss: 0.9158 - val_acc: 0.1663\n",
      "Epoch 8/15\n",
      "4905/4905 [==============================] - 5s 1ms/sample - loss: 2.6037 - acc: 0.4375 - val_loss: 1.5881 - val_acc: 0.0000e+00\n",
      "Epoch 9/15\n",
      "4905/4905 [==============================] - 4s 899us/sample - loss: 3.2863 - acc: 0.4334 - val_loss: 0.8940 - val_acc: 0.3187\n",
      "Epoch 10/15\n",
      "4905/4905 [==============================] - 4s 817us/sample - loss: 3.5273 - acc: 0.4777 - val_loss: 4.0005 - val_acc: 1.0000\n",
      "Epoch 11/15\n",
      "4905/4905 [==============================] - 4s 818us/sample - loss: 4.3724 - acc: 0.4895 - val_loss: 4.5497 - val_acc: 1.0000\n",
      "Epoch 12/15\n",
      "4905/4905 [==============================] - 4s 838us/sample - loss: 4.8416 - acc: 0.5195 - val_loss: 8.4625 - val_acc: 1.0000\n",
      "Epoch 13/15\n",
      "4905/4905 [==============================] - 5s 929us/sample - loss: 7.4084 - acc: 0.5229 - val_loss: 8.8428 - val_acc: 1.0000\n",
      "Epoch 14/15\n",
      "4905/4905 [==============================] - 4s 836us/sample - loss: 10.1378 - acc: 0.5307 - val_loss: 10.2778 - val_acc: 1.0000\n",
      "Epoch 15/15\n",
      "4905/4905 [==============================] - 4s 779us/sample - loss: 10.0132 - acc: 0.5427 - val_loss: 12.9289 - val_acc: 1.0000\n"
     ]
    }
   ],
   "source": [
    "history = model.fit(x_train, y_train,\n",
    "                    epochs=15,\n",
    "                    batch_size=512,\n",
    "                    validation_split=0.2,\n",
    "                    callbacks=[tensorboard_callback])\n",
    "                    #validation_data=(x_tes, y_tes))\n"
   ]
  },
  {
   "cell_type": "code",
   "execution_count": 141,
   "metadata": {
    "id": "yufHB-2Xhg0K",
    "outputId": "61530bf9-265c-4063-c569-60fe60c9456c"
   },
   "outputs": [
    {
     "name": "stdout",
     "output_type": "stream",
     "text": [
      "Evaluate on test data\n",
      "6132/6132 [==============================] - 2s 394us/sample - loss: 13.1093 - acc: 1.0000\n",
      "2044/2044 [==============================] - 0s 220us/sample - loss: 12.8462 - acc: 1.0000\n",
      "[13.109287039252255, 1.0]  of the training data equivalent to  6132  were correctly classified.\n",
      "[12.846189120044446, 1.0]  of the testing data equivalent to  2044  were correctly classified.\n"
     ]
    }
   ],
   "source": [
    "print(\"Evaluate on test data\")\n",
    "results_eval_train = model.evaluate(x_train, y_train, batch_size=512)\n",
    "\n",
    "results_eval_test = model.evaluate(x_test, y_test, batch_size=512)\n",
    "print(results_eval_train, \" of the training data equivalent to \",len(x_train),\" were correctly classified.\")\n",
    "print(results_eval_test, \" of the testing data equivalent to \",len(x_test),\" were correctly classified.\")"
   ]
  },
  {
   "cell_type": "code",
   "execution_count": 127,
   "metadata": {},
   "outputs": [
    {
     "data": {
      "text/plain": [
       "Reusing TensorBoard on port 6006 (pid 48737), started 0:06:16 ago. (Use '!kill 48737' to kill it.)"
      ]
     },
     "metadata": {},
     "output_type": "display_data"
    },
    {
     "data": {
      "text/html": [
       "\n",
       "      <iframe id=\"tensorboard-frame-c516bbb60f4ff90\" width=\"100%\" height=\"800\" frameborder=\"0\">\n",
       "      </iframe>\n",
       "      <script>\n",
       "        (function() {\n",
       "          const frame = document.getElementById(\"tensorboard-frame-c516bbb60f4ff90\");\n",
       "          const url = new URL(\"/\", window.location);\n",
       "          const port = 6006;\n",
       "          if (port) {\n",
       "            url.port = port;\n",
       "          }\n",
       "          frame.src = url;\n",
       "        })();\n",
       "      </script>\n",
       "    "
      ],
      "text/plain": [
       "<IPython.core.display.HTML object>"
      ]
     },
     "metadata": {},
     "output_type": "display_data"
    }
   ],
   "source": [
    "%tensorboard --logdir \"/Users/annicenajafi/Downloads/annice/logs\""
   ]
  },
  {
   "cell_type": "code",
   "execution_count": 95,
   "metadata": {},
   "outputs": [
    {
     "name": "stdout",
     "output_type": "stream",
     "text": [
      "Known TensorBoard instances:\n",
      "  - port 6006: logdir /Users/annicenajafi/Downloads/logs (started 0:04:52 ago; pid 48644)\n"
     ]
    }
   ],
   "source": [
    "from tensorboard import notebook\n",
    "notebook.list()"
   ]
  },
  {
   "cell_type": "code",
   "execution_count": 128,
   "metadata": {
    "id": "P43fA99Rhg0L",
    "outputId": "6c5514b4-21ed-4389-da16-bb064b61e4e2"
   },
   "outputs": [
    {
     "name": "stdout",
     "output_type": "stream",
     "text": [
      "Model: \"sequential_8\"\n",
      "_________________________________________________________________\n",
      "Layer (type)                 Output Shape              Param #   \n",
      "=================================================================\n",
      "conv1d_13 (Conv1D)           multiple                  2310      \n",
      "_________________________________________________________________\n",
      "conv1d_14 (Conv1D)           multiple                  46310     \n",
      "_________________________________________________________________\n",
      "max_pooling1d_6 (MaxPooling1 multiple                  0         \n",
      "_________________________________________________________________\n",
      "flatten_5 (Flatten)          multiple                  0         \n",
      "_________________________________________________________________\n",
      "dense_9 (Dense)              multiple                  765680    \n",
      "_________________________________________________________________\n",
      "dropout_5 (Dropout)          multiple                  0         \n",
      "_________________________________________________________________\n",
      "dense_10 (Dense)             multiple                  81        \n",
      "=================================================================\n",
      "Total params: 814,381\n",
      "Trainable params: 814,381\n",
      "Non-trainable params: 0\n",
      "_________________________________________________________________\n"
     ]
    }
   ],
   "source": [
    "model.summary()"
   ]
  },
  {
   "cell_type": "code",
   "execution_count": 129,
   "metadata": {
    "id": "nJ9MLcoThg0M",
    "outputId": "a2d3a1a5-1063-48d1-ea0f-bd07a1c75f88"
   },
   "outputs": [
    {
     "data": {
      "image/png": "[encoded data removed]",
      "text/plain": [
       "<Figure size 432x288 with 1 Axes>"
      ]
     },
     "metadata": {
      "needs_background": "light"
     },
     "output_type": "display_data"
    }
   ],
   "source": [
    "# plot the loss\n",
    "import matplotlib.pyplot as plt\n",
    "history_dict = history.history\n",
    "loss_values = history_dict['loss']\n",
    "acc = history_dict['acc']\n",
    "val_loss_values = history_dict['val_loss']\n",
    "epochs = range(1, len(acc) + 1)\n",
    "\n",
    "plt.plot(epochs, loss_values, 'cyan', label=\"Training loss\") # blue dot\n",
    "plt.plot(epochs, val_loss_values, 'purple', label='Validation loss')\n",
    "plt.title('Training and validation loss')\n",
    "plt.xlabel('Epochs')\n",
    "plt.ylabel('Loss')\n",
    "plt.legend()\n",
    "plt.show()"
   ]
  },
  {
   "cell_type": "code",
   "execution_count": 130,
   "metadata": {
    "id": "Ti5ZwEYFhg0M",
    "outputId": "c607fbd8-ae17-4683-a04f-50bc401768da",
    "scrolled": true
   },
   "outputs": [
    {
     "data": {
      "image/png": "[encoded data removed]",
      "text/plain": [
       "<Figure size 432x288 with 1 Axes>"
      ]
     },
     "metadata": {
      "needs_background": "light"
     },
     "output_type": "display_data"
    }
   ],
   "source": [
    "plt.clf()\n",
    "acc_values = history_dict['acc']\n",
    "val_acc_values = history_dict['val_acc']\n",
    "\n",
    "plt.plot(epochs, acc, 'cyan', label='Training Acc')\n",
    "plt.plot(epochs, val_acc_values, 'purple', label='Validation Acc')\n",
    "plt.title('Training and validation accuracy')\n",
    "plt.xlabel('Epochs')\n",
    "plt.ylabel('accuracy')\n",
    "plt.legend()\n",
    "plt.show()"
   ]
  },
  {
   "cell_type": "code",
   "execution_count": 51,
   "metadata": {
    "id": "8_4tFLYThg0M",
    "outputId": "2ac0577a-0545-438f-b954-bc0418602dff"
   },
   "outputs": [
    {
     "name": "stderr",
     "output_type": "stream",
     "text": [
      "/Users/annicenajafi/Library/Python/3.7/lib/python/site-packages/tensorflow/python/keras/engine/sequential.py:450: UserWarning: `model.predict_classes()` is deprecated and will be removed after 2021-01-01. Please use instead:* `np.argmax(model.predict(x), axis=-1)`,   if your model does multi-class classification   (e.g. if it uses a `softmax` last-layer activation).* `(model.predict(x) > 0.5).astype(\"int32\")`,   if your model does binary classification   (e.g. if it uses a `sigmoid` last-layer activation).\n",
      "  warnings.warn('`model.predict_classes()` is deprecated and '\n"
     ]
    }
   ],
   "source": [
    "y_pred = model.predict_classes(x_test)\n"
   ]
  },
  {
   "cell_type": "code",
   "execution_count": 52,
   "metadata": {
    "id": "dilkLu5vhg0M",
    "outputId": "b4ebf304-e954-4dfd-b988-9d622d7bb60a"
   },
   "outputs": [
    {
     "data": {
      "image/png": "[encoded data removed]",
      "text/plain": [
       "<Figure size 576x576 with 2 Axes>"
      ]
     },
     "metadata": {
      "needs_background": "light"
     },
     "output_type": "display_data"
    }
   ],
   "source": [
    "import seaborn as sns\n",
    "from sklearn.metrics import confusion_matrix\n",
    "conf = confusion_matrix(y_test,y_pred)\n",
    "figure = plt.figure(figsize=(8,8))\n",
    "sns.heatmap(conf, annot=True, cmap=plt.cm.Blues)\n",
    "plt.tight_layout()\n",
    "plt.ylabel('True label')\n",
    "plt.xlabel('Predicted Label')\n",
    "plt.show()"
   ]
  },
  {
   "cell_type": "code",
   "execution_count": null,
   "metadata": {
    "id": "TGtFbGO-hg0N"
   },
   "outputs": [],
   "source": []
  },
  {
   "cell_type": "markdown",
   "metadata": {
    "id": "Oor5SbTJhg0N"
   },
   "source": [
    "# Test Model"
   ]
  },
  {
   "cell_type": "code",
   "execution_count": 65,
   "metadata": {
    "id": "56JUWdrBhg0N",
    "outputId": "dcb96860-d866-4f2d-a6cd-4316e9b75c58",
    "scrolled": true
   },
   "outputs": [
    {
     "name": "stdout",
     "output_type": "stream",
     "text": [
      "TTCGGTAGGTGACCTTCATTGTATACGGGGTGCACTCCTGATCACTGTGCAAATAAGGAGGTTTCAAAACGTCTTGCGTCCACCAGAGCCGCGGTGCCGCACAAGGGCACACGCGGCCCGTACACGACCGACGTCCGCGAAAGACAAGTTCACACCTGCGGCCGGGACAGACACCCCCAGTACGGC\n",
      "Random polyA signals are given a value of 0 and IPA sites are given a value of 1\n",
      "This range is not predicted to be an IPA event\n"
     ]
    },
    {
     "name": "stderr",
     "output_type": "stream",
     "text": [
      "/Users/annicenajafi/Library/Python/3.7/lib/python/site-packages/tensorflow/python/keras/engine/sequential.py:450: UserWarning: `model.predict_classes()` is deprecated and will be removed after 2021-01-01. Please use instead:* `np.argmax(model.predict(x), axis=-1)`,   if your model does multi-class classification   (e.g. if it uses a `softmax` last-layer activation).* `(model.predict(x) > 0.5).astype(\"int32\")`,   if your model does binary classification   (e.g. if it uses a `sigmoid` last-layer activation).\n",
      "  warnings.warn('`model.predict_classes()` is deprecated and '\n"
     ]
    },
    {
     "data": {
      "image/png": "[encoded data removed]",
      "text/plain": [
       "<Figure size 576x216 with 1 Axes>"
      ]
     },
     "metadata": {
      "needs_background": "light"
     },
     "output_type": "display_data"
    },
    {
     "data": {
      "image/png": "[encoded data removed]",
      "text/plain": [
       "<Figure size 576x216 with 1 Axes>"
      ]
     },
     "metadata": {
      "needs_background": "light"
     },
     "output_type": "display_data"
    },
    {
     "data": {
      "image/png": "[encoded data removed]",
      "text/plain": [
       "<Figure size 576x216 with 1 Axes>"
      ]
     },
     "metadata": {
      "needs_background": "light"
     },
     "output_type": "display_data"
    },
    {
     "data": {
      "image/png": "[encoded data removed]",
      "text/plain": [
       "<Figure size 576x216 with 1 Axes>"
      ]
     },
     "metadata": {
      "needs_background": "light"
     },
     "output_type": "display_data"
    }
   ],
   "source": [
    "chr_hold= \"chr13\"\n",
    "start_hold = 10168271\n",
    "start_hold=112878298\n",
    "end_hold = 112880690\n",
    "#end_hold = 10171137 \n",
    "#import BSgenome\n",
    "bs_genome = importr('BSgenome.Hsapiens.UCSC.hg38')\n",
    "# You need to import 'Biostrings' explicitly\n",
    "# Loading 'BSgenome.Hsapiens.UCSC.hg19' won't load 'Biostrings' automatically\n",
    "bio_strings = importr('Biostrings')\n",
    "\n",
    "\n",
    "#one_seq = bio_strings.getSeq(bs_genome.Hsapiens, chr_hold, start_hold, end_hold, rinterface.NA_Integer, \"+\", True)\n",
    "#seqseq = one_seq[0]\n",
    "#polyA_loc = seqseq.find(\"AATAAA\")\n",
    "    \n",
    "#if(polyA_loc!=-1):\n",
    "            \n",
    "#            seqseq_updated= bio_strings.getSeq(bs_genome.Hsapiens, chr_hold, (start_hold + polyA_loc -50), (start_hold + polyA_loc + 135), rinterface.NA_Integer, \"+\", True)[0]\n",
    "           \n",
    "#            res = hot_encode(seqseq_updated)\n",
    "    \n",
    "one_seq = bio_strings.getSeq(bs_genome.Hsapiens, chr_hold, start_hold, end_hold, rinterface.NA_Integer, \"+\", True)\n",
    "    #one_seq = one_seq[::-1]\n",
    "seqseq = one_seq[0]\n",
    "polyA_loc = seqseq.find(\"AATAAA\")      \n",
    "\n",
    "if(polyA_loc==-1):\n",
    "            polyA_loc = seqseq.find(\"ATTAAA\")\n",
    "            print(\"No signals were detected for the range\")\n",
    "if(polyA_loc!=-1):\n",
    "            seqseq_updated= bio_strings.getSeq(bs_genome.Hsapiens, chr_hold, (start_hold + polyA_loc -130), (start_hold + polyA_loc + 55), rinterface.NA_Integer, \"+\", True)[0]\n",
    "            seqseq_updated = seqseq_updated[::-1]\n",
    "            res = hot_encode(seqseq_updated)\n",
    "            \n",
    "            print(seqseq_updated)            \n",
    "            checkLs= [res]\n",
    "            checkLs = np.asarray(checkLs)\n",
    "            checkLs.shape\n",
    "            print(\"Random polyA signals are given a value of 0 and IPA sites are given a value of 1\")\n",
    "            if((model.predict_classes(checkLs) ==1).astype(\"int32\")==1):\n",
    "                print(\"Predicted to be an actual IPA event\")\n",
    "                print(model.predict_classes(checkLs))\n",
    "            else:\n",
    "                print(\"This range is not predicted to be an IPA event\")\n",
    "\n",
    "res1 = [item[0] for item in res]\n",
    "res2 = [item[1] for item in res]\n",
    "res3 = [item[2] for item in res]\n",
    "res4 = [item[3] for item in res]\n",
    "f = plt.figure(figsize=(8, 3))\n",
    "plt.plot(np.arange(186), np.ravel(res1), linewidth=2, color='black')\n",
    "plt.title(\"A nucleotide Channel\", fontsize=16)\n",
    "plt.xticks([50, 56], ['CSE', 'CSE+6'], fontsize=14, rotation=45)\n",
    "plt.yticks(fontsize=14)\n",
    "plt.tight_layout()\n",
    "plt.show()\n",
    "f = plt.figure(figsize=(8, 3))\n",
    "plt.plot(np.arange(186), np.ravel(res2), linewidth=2, color='red')\n",
    "plt.title(\"C nucleotide Channel\", fontsize=16)\n",
    "plt.xticks([50, 56], ['CSE', 'CSE+6'], fontsize=14, rotation=45)\n",
    "plt.yticks(fontsize=14)\n",
    "plt.tight_layout()\n",
    "plt.show()\n",
    "f = plt.figure(figsize=(8, 3))\n",
    "plt.plot(np.arange(186), np.ravel(res1), linewidth=2, color='blue')\n",
    "plt.title(\"G nucleotide Channel\", fontsize=16)\n",
    "plt.xticks([50, 56], ['CSE', 'CSE+6'], fontsize=14, rotation=45)\n",
    "plt.yticks(fontsize=14)\n",
    "plt.tight_layout()\n",
    "plt.show()\n",
    "f = plt.figure(figsize=(8, 3))\n",
    "plt.plot(np.arange(186), np.ravel(res2), linewidth=2, color='green')\n",
    "plt.title(\"T nucleotide Channel\", fontsize=16)\n",
    "plt.xticks([50, 56], ['CSE', 'CSE+6'], fontsize=14, rotation=45)\n",
    "plt.yticks(fontsize=14)\n",
    "plt.tight_layout()\n",
    "plt.show()\n"
   ]
  },
  {
   "cell_type": "code",
   "execution_count": 68,
   "metadata": {},
   "outputs": [],
   "source": [
    "model.save('/Users/annicenajafi/Downloads/CIS_IPA.h5', save_format='h5')"
   ]
  },
  {
   "cell_type": "code",
   "execution_count": 73,
   "metadata": {},
   "outputs": [],
   "source": [
    "from math import expm1\n",
    "import joblib\n",
    "import pandas as pd\n",
    "from flask import Flask, jsonify, request\n",
    "from tensorflow import keras\n",
    "app = Flask(__name__)\n",
    "model = keras.models.load_model(\"/Users/annicenajafi/Downloads/CIS_IPA.h5\")\n",
    "\n",
    "@app.route(\"/\", methods=[\"POST\"])\n",
    "def index():\n",
    "    data = request.json\n",
    "    df = pd.DataFrame(data, index=[0])\n",
    "    prediction = model.predict(transformer.transform(df))\n",
    "    #predicted_price = expm1(prediction.flatten()[0])\n",
    "    return jsonify({\"price\": str(10)})"
   ]
  },
  {
   "cell_type": "code",
   "execution_count": 78,
   "metadata": {},
   "outputs": [
    {
     "name": "stdout",
     "output_type": "stream",
     "text": [
      "zsh:1: command not found: flask\r\n"
     ]
    }
   ],
   "source": [
    "!flask run"
   ]
  },
  {
   "cell_type": "code",
   "execution_count": 62,
   "metadata": {},
   "outputs": [],
   "source": [
    "import flask\n",
    "app = flask.Flask('IPA_CIS')\n",
    "\n",
    "def model_predict(seq_range, model):\n",
    "    \n",
    "    chr_hold = str.split(seq_range, ',')[0]\n",
    "    start_hold=str.split(seq_range, ',')[1]\n",
    "    end_hold=str.split(seq_range, ',')[2]\n",
    "    bs_genome = importr('BSgenome.Hsapiens.UCSC.hg38')\n",
    "    # You need to import 'Biostrings' explicitly\n",
    "    # Loading 'BSgenome.Hsapiens.UCSC.hg19' won't load 'Biostrings' automatically\n",
    "    bio_strings = importr('Biostrings')\n",
    "    \n",
    "    one_seq = bio_strings.getSeq(bs_genome.Hsapiens, chr_hold, start_hold, end_hold, rinterface.NA_Integer, \"+\", True)\n",
    "    #one_seq = one_seq[::-1]\n",
    "    seqseq = one_seq[0]\n",
    "    polyA_loc = seqseq.find(\"AATAAA\")      \n",
    "\n",
    "    if(polyA_loc==-1):\n",
    "            polyA_loc = seqseq.find(\"ATTAAA\")\n",
    "            result = \"No signals were detected for the range\"\n",
    "    if(polyA_loc!=-1):\n",
    "            seqseq_updated= bio_strings.getSeq(bs_genome.Hsapiens, chr_hold, (start_hold + polyA_loc -130), (start_hold + polyA_loc + 55), rinterface.NA_Integer, \"+\", True)[0]\n",
    "            seqseq_updated = seqseq_updated[::-1]\n",
    "            res = hot_encode(seqseq_updated)\n",
    "            \n",
    "            print(seqseq_updated)            \n",
    "            checkLs= [res]\n",
    "            checkLs = np.asarray(checkLs)\n",
    "            checkLs.shape\n",
    "            print(\"Random polyA signals are given a value of 0 and IPA sites are given a value of 1\")\n",
    "            if((model.predict(checkLs) > 0.5).astype(\"int32\")==1):\n",
    "                result = \"Predicted to be an actual IPA event\"\n",
    "            else:\n",
    "                result = \"This range is not predicted to be an IPA event\"\n",
    "    return result\n",
    "                \n",
    "                \n",
    "                \n",
    "                \n",
    "                \n",
    "                \n",
    "                \n",
    "                \n",
    "                \n",
    "                \n",
    "                \n",
    "                \n",
    "                \n",
    "                \n",
    "                \n",
    "\n",
    "@app.route('/', methods=['Get'])\n",
    "def index():\n",
    "    return render_template('index.html')\n",
    "@app.route('/', methods=['GET', 'POST'])\n",
    "def upload():\n",
    "    if request.method == 'POST':\n",
    "        f = request.files['file']\n",
    "        \n",
    "        basepath=os.path.dirname(__file__)\n",
    "        file_path=os.path.join(\n",
    "            basepath, 'uploads', secure_filename(f.filename))\n",
    "        f.save(file_path)\n",
    "        preds= model.predict(seq_range, model)\n"
   ]
  },
  {
   "cell_type": "code",
   "execution_count": 91,
   "metadata": {
    "scrolled": true
   },
   "outputs": [
    {
     "name": "stdout",
     "output_type": "stream",
     "text": [
      " * Serving Flask app \"__main__\" (lazy loading)\n",
      " * Environment: production\n",
      "\u001b[31m   WARNING: This is a development server. Do not use it in a production deployment.\u001b[0m\n",
      "\u001b[2m   Use a production WSGI server instead.\u001b[0m\n",
      " * Debug mode: off\n"
     ]
    },
    {
     "name": "stderr",
     "output_type": "stream",
     "text": [
      "INFO:werkzeug: * Running on http://0.0.0.0:5000/ (Press CTRL+C to quit)\n",
      "INFO:werkzeug:127.0.0.1 - - [30/Apr/2021 13:33:09] \"\u001b[33mGET / HTTP/1.1\u001b[0m\" 404 -\n"
     ]
    }
   ],
   "source": [
    "# Load libraries\n",
    "import flask\n",
    "import pandas as pd\n",
    "import tensorflow as tf\n",
    "import keras\n",
    "from keras.models import load_model\n",
    "\n",
    "# instantiate flask \n",
    "app = flask.Flask(__name__)\n",
    "\n",
    "# we need to redefine our metric function in order \n",
    "# to use it when loading the model \n",
    "def auc(y_true, y_pred):\n",
    "    auc = tf.metrics.auc(y_true, y_pred)[1]\n",
    "    keras.backend.get_session().run(tf.local_variables_initializer())\n",
    "    return auc\n",
    "\n",
    "# load the model, and pass in the custom metric function\n",
    "global graph\n",
    "#graph = tf.get_default_graph()\n",
    "model = load_model('/Users/annicenajafi/Downloads/CIS_IPA.h5', custom_objects={'auc': auc})\n",
    "\n",
    "# define a predict function as an endpoint \n",
    "@app.route(\"/predict\", methods=[\"GET\",\"POST\"])\n",
    "def predict():\n",
    "    data = {\"success\": False}\n",
    "\n",
    "    params = flask.request.json\n",
    "    if (params == None):\n",
    "        params = flask.request.args\n",
    "\n",
    "    # if parameters are found, return a prediction\n",
    "    if (params != None):\n",
    "        x=pd.DataFrame.from_dict(params, orient='index').transpose()\n",
    "        #with graph.as_default():\n",
    "        data[\"prediction\"] = str(model.predict(x)[0][0])\n",
    "        data[\"success\"] = True\n",
    "\n",
    "    # return a response in json format \n",
    "    return flask.jsonify(data)    \n",
    "\n",
    "# start the flask app, allow remote connections \n",
    "app.run(host='0.0.0.0')"
   ]
  },
  {
   "cell_type": "code",
   "execution_count": 92,
   "metadata": {},
   "outputs": [],
   "source": [
    "# Saving the model for Future Inferences\n",
    "\n",
    "model_json = model.to_json()\n",
    "with open(\"model.json\", \"w\") as json_file:\n",
    "    json_file.write(model_json)\n",
    "# serialize weights to HDF5\n",
    "model.save_weights(\"model.h5\")"
   ]
  },
  {
   "cell_type": "code",
   "execution_count": 100,
   "metadata": {},
   "outputs": [
    {
     "ename": "ImportError",
     "evalue": "cannot import name 'model_from_json' from 'keras' (/Users/annicenajafi/Library/Python/3.7/lib/python/site-packages/keras/__init__.py)",
     "output_type": "error",
     "traceback": [
      "\u001b[0;31m---------------------------------------------------------------------------\u001b[0m",
      "\u001b[0;31mImportError\u001b[0m                               Traceback (most recent call last)",
      "\u001b[0;32m<ipython-input-100-1b71fc20106b>\u001b[0m in \u001b[0;36m<module>\u001b[0;34m\u001b[0m\n\u001b[1;32m      2\u001b[0m \u001b[0;31m#import tensorflow.contrib.keras as keras\u001b[0m\u001b[0;34m\u001b[0m\u001b[0;34m\u001b[0m\u001b[0;34m\u001b[0m\u001b[0m\n\u001b[1;32m      3\u001b[0m \u001b[0;32mimport\u001b[0m \u001b[0mkeras\u001b[0m\u001b[0;34m\u001b[0m\u001b[0;34m\u001b[0m\u001b[0m\n\u001b[0;32m----> 4\u001b[0;31m \u001b[0;32mfrom\u001b[0m \u001b[0mkeras\u001b[0m \u001b[0;32mimport\u001b[0m \u001b[0mmodel_from_json\u001b[0m\u001b[0;34m\u001b[0m\u001b[0;34m\u001b[0m\u001b[0m\n\u001b[0m\u001b[1;32m      5\u001b[0m \u001b[0;34m\u001b[0m\u001b[0m\n\u001b[1;32m      6\u001b[0m \u001b[0;31m# opening and store file in a variable\u001b[0m\u001b[0;34m\u001b[0m\u001b[0;34m\u001b[0m\u001b[0;34m\u001b[0m\u001b[0m\n",
      "\u001b[0;31mImportError\u001b[0m: cannot import name 'model_from_json' from 'keras' (/Users/annicenajafi/Library/Python/3.7/lib/python/site-packages/keras/__init__.py)"
     ]
    }
   ],
   "source": [
    "# imports\n",
    "#import tensorflow.contrib.keras as keras\n",
    "import keras\n",
    "from keras import model_from_json \n",
    "\n",
    "# opening and store file in a variable\n",
    "\n",
    "json_file = open('model.json','r')\n",
    "loaded_model_json = json_file.read()\n",
    "json_file.close()\n",
    "\n",
    "# use Keras model_from_json to make a loaded model\n",
    "\n",
    "loaded_model = model_from_json(loaded_model_json)\n",
    "\n",
    "# load weights into new model\n",
    "\n",
    "loaded_model.load_weights(\"model.h5\")\n",
    "print(\"Loaded Model from disk\")\n",
    "\n",
    "# compile and evaluate loaded model\n",
    "\n",
    "loaded_model.compile(loss='categorical_crossentropy',optimizer='adam',metrics=['accuracy'])\n"
   ]
  },
  {
   "cell_type": "code",
   "execution_count": 98,
   "metadata": {},
   "outputs": [
    {
     "name": "stdout",
     "output_type": "stream",
     "text": [
      "WARNING: pip is being invoked by an old script wrapper. This will fail in a future version of pip.\n",
      "Please see https://github.com/pypa/pip/issues/5599 for advice on fixing the underlying issue.\n",
      "To avoid this problem you can invoke Python with '-m pip' instead of running pip directly.\n",
      "Defaulting to user installation because normal site-packages is not writeable\n",
      "Collecting tensorflow==1.15\n",
      "  Downloading tensorflow-1.15.0-cp37-cp37m-macosx_10_11_x86_64.whl (124.0 MB)\n",
      "\u001b[K     |████████████████████████████████| 124.0 MB 13.1 MB/s eta 0:00:01    |████████                        | 30.6 MB 4.4 MB/s eta 0:00:22     |████████████████▎               | 62.9 MB 8.5 MB/s eta 0:00:08     |███████████████████████████▋    | 106.9 MB 6.3 MB/s eta 0:00:03� | 117.1 MB 5.5 MB/s eta 0:00:02\n",
      "\u001b[?25hRequirement already satisfied: protobuf>=3.6.1 in /Users/annicenajafi/Library/Python/3.7/lib/python/site-packages (from tensorflow==1.15) (3.14.0)\n",
      "Collecting gast==0.2.2\n",
      "  Downloading gast-0.2.2.tar.gz (10 kB)\n",
      "Collecting tensorboard<1.16.0,>=1.15.0\n",
      "  Downloading tensorboard-1.15.0-py3-none-any.whl (3.8 MB)\n",
      "\u001b[K     |████████████████████████████████| 3.8 MB 11.7 MB/s eta 0:00:01\n",
      "\u001b[?25hRequirement already satisfied: numpy<2.0,>=1.16.0 in /Users/annicenajafi/Library/Python/3.7/lib/python/site-packages (from tensorflow==1.15) (1.19.5)\n",
      "Collecting keras-applications>=1.0.8\n",
      "  Downloading Keras_Applications-1.0.8-py3-none-any.whl (50 kB)\n",
      "\u001b[K     |████████████████████████████████| 50 kB 11.5 MB/s eta 0:00:01\n",
      "\u001b[?25hRequirement already satisfied: opt-einsum>=2.3.2 in /Users/annicenajafi/Library/Python/3.7/lib/python/site-packages (from tensorflow==1.15) (3.3.0)\n",
      "Requirement already satisfied: six>=1.10.0 in /Users/annicenajafi/Library/Python/3.7/lib/python/site-packages (from tensorflow==1.15) (1.15.0)\n",
      "Collecting tensorflow-estimator==1.15.1\n",
      "  Downloading tensorflow_estimator-1.15.1-py2.py3-none-any.whl (503 kB)\n",
      "\u001b[K     |████████████████████████████████| 503 kB 5.7 MB/s eta 0:00:01\n",
      "\u001b[?25hRequirement already satisfied: keras-preprocessing>=1.0.5 in /Users/annicenajafi/Library/Python/3.7/lib/python/site-packages (from tensorflow==1.15) (1.1.2)\n",
      "Requirement already satisfied: google-pasta>=0.1.6 in /Users/annicenajafi/Library/Python/3.7/lib/python/site-packages (from tensorflow==1.15) (0.2.0)\n",
      "Requirement already satisfied: grpcio>=1.8.6 in /Users/annicenajafi/Library/Python/3.7/lib/python/site-packages (from tensorflow==1.15) (1.32.0)\n",
      "Requirement already satisfied: termcolor>=1.1.0 in /Users/annicenajafi/Library/Python/3.7/lib/python/site-packages (from tensorflow==1.15) (1.1.0)\n",
      "Requirement already satisfied: wrapt>=1.11.1 in /Users/annicenajafi/Library/Python/3.7/lib/python/site-packages (from tensorflow==1.15) (1.12.1)\n",
      "Requirement already satisfied: absl-py>=0.7.0 in /Users/annicenajafi/Library/Python/3.7/lib/python/site-packages (from tensorflow==1.15) (0.11.0)\n",
      "Requirement already satisfied: wheel>=0.26 in /Users/annicenajafi/Library/Python/3.7/lib/python/site-packages (from tensorflow==1.15) (0.36.2)\n",
      "Collecting astor>=0.6.0\n",
      "  Downloading astor-0.8.1-py2.py3-none-any.whl (27 kB)\n",
      "Requirement already satisfied: h5py in /Users/annicenajafi/Library/Python/3.7/lib/python/site-packages (from keras-applications>=1.0.8->tensorflow==1.15) (2.10.0)\n",
      "Requirement already satisfied: markdown>=2.6.8 in /Users/annicenajafi/Library/Python/3.7/lib/python/site-packages (from tensorboard<1.16.0,>=1.15.0->tensorflow==1.15) (3.3.3)\n",
      "Requirement already satisfied: werkzeug>=0.11.15 in /Users/annicenajafi/Library/Python/3.7/lib/python/site-packages (from tensorboard<1.16.0,>=1.15.0->tensorflow==1.15) (1.0.1)\n",
      "Requirement already satisfied: setuptools>=41.0.0 in /Users/annicenajafi/Library/Python/3.7/lib/python/site-packages (from tensorboard<1.16.0,>=1.15.0->tensorflow==1.15) (53.0.0)\n",
      "Requirement already satisfied: importlib-metadata in /Users/annicenajafi/Library/Python/3.7/lib/python/site-packages (from markdown>=2.6.8->tensorboard<1.16.0,>=1.15.0->tensorflow==1.15) (2.1.1)\n",
      "Requirement already satisfied: zipp>=0.5 in /Users/annicenajafi/Library/Python/3.7/lib/python/site-packages (from importlib-metadata->markdown>=2.6.8->tensorboard<1.16.0,>=1.15.0->tensorflow==1.15) (3.1.0)\n",
      "Building wheels for collected packages: gast\n",
      "  Building wheel for gast (setup.py) ... \u001b[?25ldone\n",
      "\u001b[?25h  Created wheel for gast: filename=gast-0.2.2-py3-none-any.whl size=7538 sha256=1f09c9500b62b35847e4fa6329723fc71a10dab46e7022dc68f5640b648828ad\n",
      "  Stored in directory: /Users/annicenajafi/Library/Caches/pip/wheels/21/7f/02/420f32a803f7d0967b48dd823da3f558c5166991bfd204eef3\n",
      "Successfully built gast\n",
      "Installing collected packages: tensorflow-estimator, tensorboard, keras-applications, gast, astor, tensorflow\n",
      "  Attempting uninstall: tensorflow-estimator\n",
      "    Found existing installation: tensorflow-estimator 2.4.0\n",
      "    Uninstalling tensorflow-estimator-2.4.0:\n",
      "      Successfully uninstalled tensorflow-estimator-2.4.0\n",
      "  Attempting uninstall: tensorboard\n",
      "    Found existing installation: tensorboard 2.4.1\n",
      "    Uninstalling tensorboard-2.4.1:\n",
      "      Successfully uninstalled tensorboard-2.4.1\n",
      "\u001b[33m  WARNING: The script tensorboard is installed in '/Users/annicenajafi/Library/Python/3.7/bin' which is not on PATH.\n",
      "  Consider adding this directory to PATH or, if you prefer to suppress this warning, use --no-warn-script-location.\u001b[0m\n",
      "  Attempting uninstall: gast\n",
      "    Found existing installation: gast 0.3.3\n",
      "    Uninstalling gast-0.3.3:\n",
      "      Successfully uninstalled gast-0.3.3\n",
      "  Attempting uninstall: tensorflow\n",
      "    Found existing installation: tensorflow 2.4.1\n",
      "    Uninstalling tensorflow-2.4.1:\n",
      "      Successfully uninstalled tensorflow-2.4.1\n",
      "\u001b[33m  WARNING: The scripts estimator_ckpt_converter, freeze_graph, saved_model_cli, tensorboard, tf_upgrade_v2, tflite_convert, toco and toco_from_protos are installed in '/Users/annicenajafi/Library/Python/3.7/bin' which is not on PATH.\n",
      "  Consider adding this directory to PATH or, if you prefer to suppress this warning, use --no-warn-script-location.\u001b[0m\n",
      "\u001b[31mERROR: pip's dependency resolver does not currently take into account all the packages that are installed. This behaviour is the source of the following dependency conflicts.\n",
      "autokeras 1.0.12 requires tensorflow>=2.3.0, but you have tensorflow 1.15.0 which is incompatible.\u001b[0m\n",
      "Successfully installed astor-0.8.1 gast-0.2.2 keras-applications-1.0.8 tensorboard-1.15.0 tensorflow-1.15.0 tensorflow-estimator-1.15.1\n"
     ]
    }
   ],
   "source": [
    "!pip3 install tensorflow==1.15"
   ]
  },
  {
   "cell_type": "code",
   "execution_count": null,
   "metadata": {},
   "outputs": [],
   "source": [
    "from flask import Flask, render_template, request\n",
    "\n",
    "@app.route('/')\n",
    "def index_view():\n",
    "    return render_template('index.html')\n",
    "\n",
    "\n",
    "@app.route('/predict/',methods=['GET','POST'])\n",
    "def predict():\n",
    "\tresponse = \"For ML Prediction\"\n",
    "return response\t\n",
    "\n",
    "if __name__ == '__main__':\n",
    "    app.run(debug=True, port=8000)\n"
   ]
  },
  {
   "cell_type": "markdown",
   "metadata": {
    "id": "7zXJMNMnhg0O"
   },
   "source": [
    "<h2><p style=\"color:#FF1493\">Using Autokeras ... </h2>"
   ]
  },
  {
   "cell_type": "code",
   "execution_count": 90,
   "metadata": {
    "id": "XCOH36Cdhg0O"
   },
   "outputs": [],
   "source": [
    "model.save('/Users/annicenajafi/Downloads/CIS_IPA.h5', save_format='h5')"
   ]
  },
  {
   "cell_type": "code",
   "execution_count": null,
   "metadata": {
    "id": "ClE9Bwtihg0O"
   },
   "outputs": [],
   "source": [
    "import os\n",
    "\n",
    "import numpy as np\n",
    "import tensorflow as tf\n",
    "from sklearn.datasets import load_files\n",
    "\n",
    "import autokeras as ak\n",
    "\n",
    "train_set = tf.data.Dataset.from_tensor_slices(((seq_store,), (y_train,))).batch(32)\n",
    "test_set = tf.data.Dataset.from_tensor_slices(((x_val,), (y_val,))).batch(32)\n",
    "\n",
    "clf = ak.TextClassifier(overwrite=True, max_trials=2)\n",
    "# Feed the tensorflow Dataset to the classifier.\n",
    "clf.fit(train_set, epochs=2)\n",
    "# Predict with the best model.\n",
    "predicted_y = clf.predict(test_set)\n",
    "# Evaluate the best model with testing data.\n",
    "print(clf.evaluate(test_set))"
   ]
  }
 ],
 "metadata": {
  "colab": {
   "collapsed_sections": [],
   "name": "IPA_Cis-regulatory_NN.ipynb",
   "provenance": [],
   "toc_visible": true
  },
  "kernelspec": {
   "display_name": "Python 3",
   "language": "python",
   "name": "python3"
  },
  "language_info": {
   "codemirror_mode": {
    "name": "ipython",
    "version": 3
   },
   "file_extension": ".py",
   "mimetype": "text/x-python",
   "name": "python",
   "nbconvert_exporter": "python",
   "pygments_lexer": "ipython3",
   "version": "3.7.3"
  }
 },
 "nbformat": 4,
 "nbformat_minor": 1
}
